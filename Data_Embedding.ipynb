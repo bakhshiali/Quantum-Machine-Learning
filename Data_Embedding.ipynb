{
  "cells": [
    {
      "cell_type": "markdown",
      "metadata": {
        "id": "view-in-github",
        "colab_type": "text"
      },
      "source": [
        "<a href=\"https://colab.research.google.com/github/bakhshiali/Quantum-Machine-Learning/blob/main/Data_Embedding.ipynb\" target=\"_parent\"><img src=\"https://colab.research.google.com/assets/colab-badge.svg\" alt=\"Open In Colab\"/></a>"
      ]
    },
    {
      "cell_type": "markdown",
      "id": "ed35308b",
      "metadata": {
        "id": "ed35308b"
      },
      "source": [
        "# Data Embedding\n",
        "\n",
        "1) Basic Embedding"
      ]
    },
    {
      "cell_type": "code",
      "source": [
        "!pip install pennylane"
      ],
      "metadata": {
        "id": "avS56bQrfleD"
      },
      "id": "avS56bQrfleD",
      "execution_count": null,
      "outputs": []
    },
    {
      "cell_type": "code",
      "execution_count": null,
      "id": "6b44a2e8",
      "metadata": {
        "id": "6b44a2e8"
      },
      "outputs": [],
      "source": [
        "import pennylane as qml\n",
        "from pennylane import numpy as np"
      ]
    },
    {
      "cell_type": "markdown",
      "id": "9fd38093",
      "metadata": {
        "id": "9fd38093"
      },
      "source": [
        "We call proper embedding template"
      ]
    },
    {
      "cell_type": "code",
      "execution_count": null,
      "id": "23a61c7a",
      "metadata": {
        "id": "23a61c7a"
      },
      "outputs": [],
      "source": [
        "dev = qml.device('default.qubit', wires=4)\n",
        "\n",
        "@qml.qnode(dev)\n",
        "def circuit(feature_vector):\n",
        "  qml.BasisEmbedding(features=feature_vector,wires=range(4))\n",
        "  return qml.state()\n",
        "\n"
      ]
    },
    {
      "cell_type": "markdown",
      "id": "cc52ce33",
      "metadata": {
        "id": "cc52ce33"
      },
      "source": [
        "We define vector X in order to encode binary $1010$ to quantum state $|1010\\rangle$"
      ]
    },
    {
      "cell_type": "code",
      "execution_count": null,
      "id": "e63731c4",
      "metadata": {
        "id": "e63731c4"
      },
      "outputs": [],
      "source": [
        "X=np.array([1,0,1,0])  # Binary representation of 1010"
      ]
    },
    {
      "cell_type": "code",
      "execution_count": null,
      "id": "bcf93ae7",
      "metadata": {
        "colab": {
          "base_uri": "https://localhost:8080/"
        },
        "id": "bcf93ae7",
        "outputId": "c928332d-7bac-494a-bf9b-42c568266ee8"
      },
      "outputs": [
        {
          "output_type": "stream",
          "name": "stdout",
          "text": [
            "[0.+0.j 0.+0.j 0.+0.j 0.+0.j 0.+0.j 0.+0.j 0.+0.j 0.+0.j 0.+0.j 0.+0.j\n",
            " 1.+0.j 0.+0.j 0.+0.j 0.+0.j 0.+0.j 0.+0.j]\n"
          ]
        }
      ],
      "source": [
        "print(circuit(X))"
      ]
    },
    {
      "cell_type": "markdown",
      "id": "8ca244be",
      "metadata": {
        "id": "8ca244be"
      },
      "source": [
        "2) Angle Embedding\n",
        "\n",
        "We call proper embedding template in the quantum node below, using rotation='Y' to encode vector [0.83,0.24,0.35]"
      ]
    },
    {
      "cell_type": "code",
      "execution_count": null,
      "id": "58a63980",
      "metadata": {
        "id": "58a63980"
      },
      "outputs": [],
      "source": [
        "dev2 = qml.device('default.qubit', wires=3)\n",
        "\n",
        "@qml.qnode(dev2)\n",
        "def circuit2(feature_vector):\n",
        "    qml.AngleEmbedding(features=feature_vector,wires=range(3),rotation='Y')\n",
        "    qml.Hadamard(0)\n",
        "    return qml.probs(wires=range(3))\n",
        "\n"
      ]
    },
    {
      "cell_type": "code",
      "execution_count": null,
      "id": "e9ee8b58",
      "metadata": {
        "id": "e9ee8b58"
      },
      "outputs": [],
      "source": [
        "Y=[0.83,0.24,0.35]"
      ]
    },
    {
      "cell_type": "code",
      "execution_count": null,
      "id": "869ea42c",
      "metadata": {
        "colab": {
          "base_uri": "https://localhost:8080/"
        },
        "id": "869ea42c",
        "outputId": "4e938fb9-b6a5-400d-a601-bf2a6e03db49"
      },
      "outputs": [
        {
          "output_type": "stream",
          "name": "stdout",
          "text": [
            "0: ──RY(0.83)──H─┤ ╭Probs\n",
            "1: ──RY(0.24)────┤ ├Probs\n",
            "2: ──RY(0.35)────┤ ╰Probs\n"
          ]
        }
      ],
      "source": [
        "print(qml.draw(circuit2, expansion_strategy=\"device\")(Y))"
      ]
    },
    {
      "cell_type": "markdown",
      "id": "eda04137",
      "metadata": {
        "id": "eda04137"
      },
      "source": [
        "\n",
        "3) Amplitude Embedding"
      ]
    },
    {
      "cell_type": "code",
      "execution_count": null,
      "id": "edb7b8d8",
      "metadata": {
        "id": "edb7b8d8"
      },
      "outputs": [],
      "source": [
        "dev3 = qml.device('default.qubit', wires=2)\n",
        "\n",
        "@qml.qnode(dev3)\n",
        "def circuit(feature_vector):\n",
        "    qml.AmplitudeEmbedding(features=feature_vector,wires=range(2),normalize=True)\n",
        "    return qml.expval(qml.PauliZ(0))\n",
        "\n"
      ]
    },
    {
      "cell_type": "code",
      "execution_count": null,
      "id": "aa5c1ebc",
      "metadata": {
        "id": "aa5c1ebc"
      },
      "outputs": [],
      "source": [
        "Z=[0.24,0.72,0.06,0]"
      ]
    },
    {
      "cell_type": "code",
      "execution_count": null,
      "id": "b61197e9",
      "metadata": {
        "colab": {
          "base_uri": "https://localhost:8080/"
        },
        "id": "b61197e9",
        "outputId": "e79afcb2-6c88-4798-8524-58b9168d8ffb"
      },
      "outputs": [
        {
          "output_type": "execute_result",
          "data": {
            "text/plain": [
              "tensor(0.98757764, requires_grad=True)"
            ]
          },
          "metadata": {},
          "execution_count": 16
        }
      ],
      "source": [
        "circuit(Z)"
      ]
    },
    {
      "cell_type": "markdown",
      "id": "07f1ee97",
      "metadata": {
        "id": "07f1ee97"
      },
      "source": [
        "We write a code to see if we were successful to encode the mentioned vector into amplitudes"
      ]
    },
    {
      "cell_type": "code",
      "execution_count": null,
      "id": "5e0157d2",
      "metadata": {
        "colab": {
          "base_uri": "https://localhost:8080/"
        },
        "id": "5e0157d2",
        "outputId": "e9ef5dc1-1ee5-4a69-baf4-3668d8d95508"
      },
      "outputs": [
        {
          "output_type": "stream",
          "name": "stdout",
          "text": [
            "0.9875776397515524\n",
            "AmplitudeEmbedding(array([0.31524416+0.j, 0.94573249+0.j, 0.07881104+0.j, 0.        +0.j]), wires=[0, 1])\n"
          ]
        }
      ],
      "source": [
        "print(circuit(Z))\n",
        "Z = [0.24, 0.72, 0.06, 0]\n",
        "amplitude_state = qml.AmplitudeEmbedding(Z, wires=range(2),normalize=True)\n",
        "print(amplitude_state)"
      ]
    },
    {
      "cell_type": "markdown",
      "source": [
        "output: AmplitudeEmbedding(array([0.31524416+0.j, 0.94573249+0.j, 0.07881104+0.j, 0.        +0.j]), wires=[0, 1])\n",
        "***\n",
        "Amplitudes:<br>\n",
        "qubit 00: 0.31524416 + 0.0j<br>\n",
        "qubit 01: 0.94573249 + 0.0j<br>\n",
        "qubit 10: 0.07881104 + 0.0j<br>\n",
        "qubit 11: 0.0 + 0.0j<br>\n",
        "***\n",
        "0.0j --> real states --> Z vector is encoded into quantum state amplitudes on qubits 0 & 1"
      ],
      "metadata": {
        "id": "qqNphqzkYiie"
      },
      "id": "qqNphqzkYiie"
    },
    {
      "cell_type": "code",
      "execution_count": null,
      "id": "250186f3",
      "metadata": {
        "id": "250186f3",
        "colab": {
          "base_uri": "https://localhost:8080/"
        },
        "outputId": "bec77cd8-3f01-4a6d-b47c-b4776ac980be"
      },
      "outputs": [
        {
          "output_type": "execute_result",
          "data": {
            "text/plain": [
              "tensor([0.31524416+0.j, 0.94573249+0.j, 0.07881104+0.j, 0.        +0.j], requires_grad=True)"
            ]
          },
          "metadata": {},
          "execution_count": 20
        }
      ],
      "source": [
        "dev3.state"
      ]
    },
    {
      "cell_type": "code",
      "source": [],
      "metadata": {
        "id": "VEy1TWNQXNCH"
      },
      "id": "VEy1TWNQXNCH",
      "execution_count": null,
      "outputs": []
    }
  ],
  "metadata": {
    "kernelspec": {
      "display_name": "Python 3",
      "language": "python",
      "name": "python3"
    },
    "language_info": {
      "codemirror_mode": {
        "name": "ipython",
        "version": 3
      },
      "file_extension": ".py",
      "mimetype": "text/x-python",
      "name": "python",
      "nbconvert_exporter": "python",
      "pygments_lexer": "ipython3",
      "version": "3.8.8"
    },
    "colab": {
      "provenance": [],
      "include_colab_link": true
    }
  },
  "nbformat": 4,
  "nbformat_minor": 5
}