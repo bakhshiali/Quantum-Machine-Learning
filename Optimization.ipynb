{
  "cells": [
    {
      "cell_type": "markdown",
      "metadata": {
        "id": "view-in-github",
        "colab_type": "text"
      },
      "source": [
        "<a href=\"https://colab.research.google.com/github/bakhshiali/Quantum-Machine-Learning/blob/main/Optimization.ipynb\" target=\"_parent\"><img src=\"https://colab.research.google.com/assets/colab-badge.svg\" alt=\"Open In Colab\"/></a>"
      ]
    },
    {
      "cell_type": "markdown",
      "id": "e1e69d55",
      "metadata": {
        "id": "e1e69d55"
      },
      "source": [
        "# Optimization\n",
        "\n",
        "\n",
        "\n",
        "\n",
        " Goal : In this file, we try to optimize the circuit to reach 0.4 as the expectation value (PauliZ) of first qubit.\n"
      ]
    },
    {
      "cell_type": "code",
      "source": [
        "!pip install pennylane"
      ],
      "metadata": {
        "id": "A-skF4Y0hBOl"
      },
      "id": "A-skF4Y0hBOl",
      "execution_count": null,
      "outputs": []
    },
    {
      "cell_type": "code",
      "execution_count": null,
      "id": "9a7ccdcd",
      "metadata": {
        "id": "9a7ccdcd"
      },
      "outputs": [],
      "source": [
        "import pennylane as qml\n",
        "from pennylane import numpy as np"
      ]
    },
    {
      "cell_type": "code",
      "execution_count": null,
      "id": "127c3823",
      "metadata": {
        "id": "127c3823"
      },
      "outputs": [],
      "source": [
        "dev = qml.device(\"default.qubit\", wires=1)\n",
        "\n",
        "@qml.qnode(dev)\n",
        "def circuit(params):\n",
        "    qml.RY(params[0], wires=0)\n",
        "    qml.RZ(params[1],wires=0)\n",
        "    return  qml.expval(qml.PauliZ(0))"
      ]
    },
    {
      "cell_type": "markdown",
      "id": "40a649b9",
      "metadata": {
        "id": "40a649b9"
      },
      "source": [
        "We define the cost function in order to optimize circuit(params) in code cell below"
      ]
    },
    {
      "cell_type": "code",
      "execution_count": null,
      "id": "fd500866",
      "metadata": {
        "id": "fd500866"
      },
      "outputs": [],
      "source": [
        "def cost(params):\n",
        "    return  np.abs(circuit(params) - 0.4)**2"
      ]
    },
    {
      "cell_type": "markdown",
      "id": "23617c4c",
      "metadata": {
        "id": "23617c4c"
      },
      "source": [
        "In code cell below,\n",
        "\n",
        "First we  set up the optimizer and learning rate\n",
        "\n",
        "Second we initialize the learning parameter"
      ]
    },
    {
      "cell_type": "code",
      "execution_count": null,
      "id": "a89ec7d4",
      "metadata": {
        "id": "a89ec7d4"
      },
      "outputs": [],
      "source": [
        "# use gradient descent with learning rate 0.4\n",
        "\n",
        "opt= qml.GradientDescentOptimizer(stepsize=0.4)\n",
        "steps = 100\n",
        "\n",
        "# use np.random.rand to initialize params\n",
        "params= np.random.rand(2)\n",
        "for i in range(steps):\n",
        "    params = opt.step(cost, params)"
      ]
    },
    {
      "cell_type": "markdown",
      "id": "935a58e6",
      "metadata": {
        "id": "935a58e6"
      },
      "source": [
        "if our codes are correct, we should receive (tensor(0.4, requires_grad=True))"
      ]
    },
    {
      "cell_type": "code",
      "execution_count": null,
      "id": "165dc8cd",
      "metadata": {
        "colab": {
          "base_uri": "https://localhost:8080/"
        },
        "id": "165dc8cd",
        "outputId": "835b5998-cd0a-4a29-ed89-8675fa8c2b03"
      },
      "outputs": [
        {
          "output_type": "execute_result",
          "data": {
            "text/plain": [
              "tensor(0.4, requires_grad=True)"
            ]
          },
          "metadata": {},
          "execution_count": 8
        }
      ],
      "source": [
        "circuit(params)"
      ]
    }
  ],
  "metadata": {
    "kernelspec": {
      "display_name": "Python 3",
      "language": "python",
      "name": "python3"
    },
    "language_info": {
      "codemirror_mode": {
        "name": "ipython",
        "version": 3
      },
      "file_extension": ".py",
      "mimetype": "text/x-python",
      "name": "python",
      "nbconvert_exporter": "python",
      "pygments_lexer": "ipython3",
      "version": "3.8.8"
    },
    "colab": {
      "provenance": [],
      "include_colab_link": true
    }
  },
  "nbformat": 4,
  "nbformat_minor": 5
}