{
  "cells": [
    {
      "cell_type": "markdown",
      "metadata": {
        "id": "view-in-github",
        "colab_type": "text"
      },
      "source": [
        "<a href=\"https://colab.research.google.com/github/bakhshiali/Quantum-Machine-Learning/blob/main/Gradient.ipynb\" target=\"_parent\"><img src=\"https://colab.research.google.com/assets/colab-badge.svg\" alt=\"Open In Colab\"/></a>"
      ]
    },
    {
      "cell_type": "markdown",
      "id": "6597c197",
      "metadata": {
        "id": "6597c197"
      },
      "source": [
        "# Gradient\n",
        "\n",
        "\n",
        "We are going to evaluate gradients of the special circuits with the respect to differentiable parameter"
      ]
    },
    {
      "cell_type": "code",
      "source": [
        "!pip install pennylane"
      ],
      "metadata": {
        "id": "PvEGKmd0aATR"
      },
      "id": "PvEGKmd0aATR",
      "execution_count": null,
      "outputs": []
    },
    {
      "cell_type": "code",
      "execution_count": null,
      "id": "1650715e",
      "metadata": {
        "id": "1650715e"
      },
      "outputs": [],
      "source": [
        "import pennylane as qml\n",
        "from pennylane import numpy as np"
      ]
    },
    {
      "cell_type": "markdown",
      "id": "9ce49c3a",
      "metadata": {
        "id": "9ce49c3a"
      },
      "source": [
        "In the code cell below, the quantum node is parameterized with {params}"
      ]
    },
    {
      "cell_type": "code",
      "execution_count": null,
      "id": "792ec8fa",
      "metadata": {
        "id": "792ec8fa"
      },
      "outputs": [],
      "source": [
        "dev = qml.device('default.qubit', wires=2)\n",
        "\n",
        "@qml.qnode(dev)\n",
        "def circuit(params):\n",
        "    qml.RX(params[0], wires=0)\n",
        "    qml.RY(params[1], wires=1)\n",
        "    qml.CNOT(wires=[0, 1])\n",
        "    qml.PhaseShift(params[2], wires=0)\n",
        "    return qml.expval(qml.PauliZ(0))"
      ]
    },
    {
      "cell_type": "markdown",
      "id": "f0beb56c",
      "metadata": {
        "id": "f0beb56c"
      },
      "source": [
        "We write a code to evalute gradient with the respect to {params}\n",
        "\n",
        "First we initialize our params and specify them as differentiable parameter\n",
        "\n",
        "use {np.random.rand and requires_grad}, then use {qml.grad} to calculate gradient"
      ]
    },
    {
      "cell_type": "code",
      "execution_count": null,
      "id": "bcd84231",
      "metadata": {
        "colab": {
          "base_uri": "https://localhost:8080/"
        },
        "id": "bcd84231",
        "outputId": "fe38e272-0794-48f1-c058-bffaad814fa0"
      },
      "outputs": [
        {
          "output_type": "execute_result",
          "data": {
            "text/plain": [
              "array([-4.59542510e-02,  0.00000000e+00,  6.77626358e-21])"
            ]
          },
          "metadata": {},
          "execution_count": 6
        }
      ],
      "source": [
        "params=np.random.rand(3,requires_grad=True)\n",
        "dcircuit=qml.grad(circuit)\n",
        "dcircuit(params)"
      ]
    },
    {
      "cell_type": "markdown",
      "id": "06947b83",
      "metadata": {
        "id": "06947b83"
      },
      "source": [
        "In the code cell below, the quantum node is parameterized with {phi,theta}"
      ]
    },
    {
      "cell_type": "code",
      "execution_count": null,
      "id": "92eb4660",
      "metadata": {
        "id": "92eb4660"
      },
      "outputs": [],
      "source": [
        "dev2 = qml.device('default.qubit', wires=2)\n",
        "\n",
        "@qml.qnode(dev2)\n",
        "def circuit2(phi, theta):\n",
        "    qml.RX(phi[0], wires=0)\n",
        "    qml.RY(phi[1], wires=1)\n",
        "    qml.CNOT(wires=[0, 1])\n",
        "    qml.PhaseShift(theta, wires=0)\n",
        "    return qml.expval(qml.PauliZ(0))"
      ]
    },
    {
      "cell_type": "markdown",
      "id": "ed09fa13",
      "metadata": {
        "id": "ed09fa13"
      },
      "source": [
        "Now, we write a code to evalute gradient with the respect to both {phi,theta}\n",
        "\n",
        "First we initialize our params and specify them as differentiable parameter\n",
        "\n",
        "using {requires_grad} (HINT:initial value for phi and theta are as follows)\n",
        "\n",
        "phi = [0.5,0.1]\n",
        "\n",
        "theta=[0.2]\n",
        "\n",
        "then use {qml.grad} to calculate gradient"
      ]
    },
    {
      "cell_type": "code",
      "execution_count": null,
      "id": "8238c140",
      "metadata": {
        "id": "8238c140"
      },
      "outputs": [],
      "source": [
        "phi=np.array([0.5,0.1],requires_grad=True)\n",
        "theta=np.array([0.2],requires_grad=True)\n",
        "dcircuit=qml.grad(circuit2)"
      ]
    },
    {
      "cell_type": "code",
      "execution_count": null,
      "id": "7e06147c",
      "metadata": {
        "colab": {
          "base_uri": "https://localhost:8080/"
        },
        "id": "7e06147c",
        "outputId": "40955714-1b6b-4117-f9f2-bfb2e78b761b"
      },
      "outputs": [
        {
          "output_type": "execute_result",
          "data": {
            "text/plain": [
              "(array([-4.79425539e-01, -6.93889390e-18]), array([-3.46944695e-18]))"
            ]
          },
          "metadata": {},
          "execution_count": 16
        }
      ],
      "source": [
        "dcircuit(phi,theta)"
      ]
    },
    {
      "cell_type": "markdown",
      "id": "1cf5186d",
      "metadata": {
        "id": "1cf5186d"
      },
      "source": [
        "Please pay attention to code cells below (jacobian)"
      ]
    },
    {
      "cell_type": "code",
      "execution_count": null,
      "id": "c0c213e4",
      "metadata": {
        "id": "c0c213e4"
      },
      "outputs": [],
      "source": [
        "dev3 = qml.device('default.qubit', wires=2)\n",
        "\n",
        "@qml.qnode(dev3)\n",
        "def circuit3(params):\n",
        "    qml.Hadamard(wires=0)\n",
        "    qml.CNOT(wires=[0, 1])\n",
        "    qml.RX(params[0], wires=0)\n",
        "    qml.RY(params[1], wires=1)\n",
        "    qml.CNOT(wires=[0, 1])\n",
        "    return qml.expval(qml.PauliY(0)), qml.expval(qml.PauliZ(1))"
      ]
    },
    {
      "cell_type": "code",
      "execution_count": null,
      "id": "645ccc33",
      "metadata": {
        "colab": {
          "base_uri": "https://localhost:8080/"
        },
        "id": "645ccc33",
        "outputId": "f0cbed8d-5f8c-4804-b88a-8feb2b3a4eb0"
      },
      "outputs": [
        {
          "output_type": "execute_result",
          "data": {
            "text/plain": [
              "array([[-0.35465501, -0.04296056,  0.        ],\n",
              "       [-0.04296056, -0.35465501,  0.        ]])"
            ]
          },
          "metadata": {},
          "execution_count": 11
        }
      ],
      "source": [
        "j1 =qml.jacobian(lambda x: np.stack(circuit3(x)))\n",
        "j1(params)"
      ]
    }
  ],
  "metadata": {
    "kernelspec": {
      "display_name": "Python 3",
      "language": "python",
      "name": "python3"
    },
    "language_info": {
      "codemirror_mode": {
        "name": "ipython",
        "version": 3
      },
      "file_extension": ".py",
      "mimetype": "text/x-python",
      "name": "python",
      "nbconvert_exporter": "python",
      "pygments_lexer": "ipython3",
      "version": "3.8.8"
    },
    "colab": {
      "provenance": [],
      "include_colab_link": true
    }
  },
  "nbformat": 4,
  "nbformat_minor": 5
}